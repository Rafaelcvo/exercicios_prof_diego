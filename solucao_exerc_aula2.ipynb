{
 "cells": [
  {
   "cell_type": "markdown",
   "metadata": {},
   "source": [
    "\n"
   ]
  },
  {
   "cell_type": "markdown",
   "metadata": {},
   "source": [
    "# Exercícios\n",
    "\n",
    "1. Usando NumPy, importe o [dataset iris](https://archive.ics.uci.edu/ml/machine-learning-databases/iris/iris.data) mantendo o seu conteúdo intacto."
   ]
  },
  {
   "cell_type": "code",
   "execution_count": 26,
   "metadata": {},
   "outputs": [],
   "source": [
    "import numpy as np\n",
    "\n",
    "iris_dataset = 'https://archive.ics.uci.edu/ml/machine-learning-databases/iris/iris.data'\n",
    "colunas = ('sepallength', 'sepalwidth', 'petallength', 'petalwidth', 'species')\n",
    "iris = np.genfromtxt(iris_dataset, delimiter=',', dtype='object', encoding='ascii')\n",
    "\n",
    "sepallength = iris[:,0].astype(float)\n",
    "#conferir se estar certo a localizacao da coluna\n",
    "sepalwidth = iris[:,1].astype(float)"
   ]
  },
  {
   "cell_type": "markdown",
   "metadata": {},
   "source": [
    "2. Extraia a coluna *species* do dataset importado na questão anterior para um vetor unidimensional."
   ]
  },
  {
   "cell_type": "code",
   "execution_count": 27,
   "metadata": {},
   "outputs": [
    {
     "data": {
      "text/plain": [
       "array([b'Iris-setosa', b'Iris-setosa', b'Iris-setosa', b'Iris-setosa',\n",
       "       b'Iris-setosa', b'Iris-setosa', b'Iris-setosa', b'Iris-setosa',\n",
       "       b'Iris-setosa', b'Iris-setosa', b'Iris-setosa', b'Iris-setosa',\n",
       "       b'Iris-setosa', b'Iris-setosa', b'Iris-setosa', b'Iris-setosa',\n",
       "       b'Iris-setosa', b'Iris-setosa', b'Iris-setosa', b'Iris-setosa',\n",
       "       b'Iris-setosa', b'Iris-setosa', b'Iris-setosa', b'Iris-setosa',\n",
       "       b'Iris-setosa', b'Iris-setosa', b'Iris-setosa', b'Iris-setosa',\n",
       "       b'Iris-setosa', b'Iris-setosa', b'Iris-setosa', b'Iris-setosa',\n",
       "       b'Iris-setosa', b'Iris-setosa', b'Iris-setosa', b'Iris-setosa',\n",
       "       b'Iris-setosa', b'Iris-setosa', b'Iris-setosa', b'Iris-setosa',\n",
       "       b'Iris-setosa', b'Iris-setosa', b'Iris-setosa', b'Iris-setosa',\n",
       "       b'Iris-setosa', b'Iris-setosa', b'Iris-setosa', b'Iris-setosa',\n",
       "       b'Iris-setosa', b'Iris-setosa', b'Iris-versicolor',\n",
       "       b'Iris-versicolor', b'Iris-versicolor', b'Iris-versicolor',\n",
       "       b'Iris-versicolor', b'Iris-versicolor', b'Iris-versicolor',\n",
       "       b'Iris-versicolor', b'Iris-versicolor', b'Iris-versicolor',\n",
       "       b'Iris-versicolor', b'Iris-versicolor', b'Iris-versicolor',\n",
       "       b'Iris-versicolor', b'Iris-versicolor', b'Iris-versicolor',\n",
       "       b'Iris-versicolor', b'Iris-versicolor', b'Iris-versicolor',\n",
       "       b'Iris-versicolor', b'Iris-versicolor', b'Iris-versicolor',\n",
       "       b'Iris-versicolor', b'Iris-versicolor', b'Iris-versicolor',\n",
       "       b'Iris-versicolor', b'Iris-versicolor', b'Iris-versicolor',\n",
       "       b'Iris-versicolor', b'Iris-versicolor', b'Iris-versicolor',\n",
       "       b'Iris-versicolor', b'Iris-versicolor', b'Iris-versicolor',\n",
       "       b'Iris-versicolor', b'Iris-versicolor', b'Iris-versicolor',\n",
       "       b'Iris-versicolor', b'Iris-versicolor', b'Iris-versicolor',\n",
       "       b'Iris-versicolor', b'Iris-versicolor', b'Iris-versicolor',\n",
       "       b'Iris-versicolor', b'Iris-versicolor', b'Iris-versicolor',\n",
       "       b'Iris-versicolor', b'Iris-versicolor', b'Iris-versicolor',\n",
       "       b'Iris-versicolor', b'Iris-virginica', b'Iris-virginica',\n",
       "       b'Iris-virginica', b'Iris-virginica', b'Iris-virginica',\n",
       "       b'Iris-virginica', b'Iris-virginica', b'Iris-virginica',\n",
       "       b'Iris-virginica', b'Iris-virginica', b'Iris-virginica',\n",
       "       b'Iris-virginica', b'Iris-virginica', b'Iris-virginica',\n",
       "       b'Iris-virginica', b'Iris-virginica', b'Iris-virginica',\n",
       "       b'Iris-virginica', b'Iris-virginica', b'Iris-virginica',\n",
       "       b'Iris-virginica', b'Iris-virginica', b'Iris-virginica',\n",
       "       b'Iris-virginica', b'Iris-virginica', b'Iris-virginica',\n",
       "       b'Iris-virginica', b'Iris-virginica', b'Iris-virginica',\n",
       "       b'Iris-virginica', b'Iris-virginica', b'Iris-virginica',\n",
       "       b'Iris-virginica', b'Iris-virginica', b'Iris-virginica',\n",
       "       b'Iris-virginica', b'Iris-virginica', b'Iris-virginica',\n",
       "       b'Iris-virginica', b'Iris-virginica', b'Iris-virginica',\n",
       "       b'Iris-virginica', b'Iris-virginica', b'Iris-virginica',\n",
       "       b'Iris-virginica', b'Iris-virginica', b'Iris-virginica',\n",
       "       b'Iris-virginica', b'Iris-virginica', b'Iris-virginica'],\n",
       "      dtype=object)"
      ]
     },
     "execution_count": 27,
     "metadata": {},
     "output_type": "execute_result"
    }
   ],
   "source": [
    "species = iris[:,4]\n",
    "species"
   ]
  },
  {
   "cell_type": "markdown",
   "metadata": {},
   "source": [
    "3. Calcule a média, mediana e desvio padrão da primeira coluna (sepallength) do dataset Iris."
   ]
  },
  {
   "cell_type": "code",
   "execution_count": 4,
   "metadata": {},
   "outputs": [
    {
     "name": "stdout",
     "output_type": "stream",
     "text": [
      "A média é: 5.843333333333334\n",
      "A mediana é: 5.8\n",
      "Desvio padrao: 0.8253012917851409\n"
     ]
    }
   ],
   "source": [
    "col0 = iris[:,0].astype(float)\n",
    "print(\"A média é:\",np.mean(col0))\n",
    "print(\"A mediana é:\",np.median(col0))\n",
    "print(\"Desvio padrao:\",np.std(col0))"
   ]
  },
  {
   "cell_type": "markdown",
   "metadata": {},
   "source": [
    "4. Normalize a coluna (sepallength) do dataset iris de tal forma que o valor mínimo seja zero (0) e o valor máximo seja 1."
   ]
  },
  {
   "cell_type": "code",
   "execution_count": 5,
   "metadata": {},
   "outputs": [
    {
     "name": "stdout",
     "output_type": "stream",
     "text": [
      "[5.1 4.9]\n",
      "[0.22222222 0.16666667]\n"
     ]
    }
   ],
   "source": [
    "sepal_length_max = sepallength.max()\n",
    "sepal_length_min = sepallength.min()\n",
    "\n",
    "#Metodo1\n",
    "sepallength_normalizada = (sepallength - sepal_length_min) / (sepal_length_max - sepal_length_min)\n",
    "\n",
    "print(sepallength[:2])\n",
    "print(sepallength_normalizada[:2])"
   ]
  },
  {
   "cell_type": "markdown",
   "metadata": {},
   "source": [
    "5. Encontre o 5º e o 95º percentil do comprimento das pétalas (sepallength) do dataset Iris."
   ]
  },
  {
   "cell_type": "code",
   "execution_count": 6,
   "metadata": {},
   "outputs": [
    {
     "data": {
      "text/plain": [
       "array([4.6  , 7.255])"
      ]
     },
     "execution_count": 6,
     "metadata": {},
     "output_type": "execute_result"
    }
   ],
   "source": [
    "np.percentile(sepallength, q=[5,95])"
   ]
  },
  {
   "cell_type": "markdown",
   "metadata": {},
   "source": [
    "6. Encontre a quantidade de valores ausentes, bem como a posição deles da primeira coluna da coluna comprimento das pétalas (sepallength), dentro do vetor abaixo:"
   ]
  },
  {
   "cell_type": "code",
   "execution_count": 7,
   "metadata": {},
   "outputs": [
    {
     "name": "stdout",
     "output_type": "stream",
     "text": [
      "Quantidade de valores ausentes: 3\n",
      "Posicao deos valores ausentes: (array([12, 28, 63]),)\n"
     ]
    }
   ],
   "source": [
    "# Entrada\n",
    "url = 'https://archive.ics.uci.edu/ml/machine-learning-databases/iris/iris.data'\n",
    "iris_2d = np.genfromtxt(url, delimiter=',', dtype='float')\n",
    "iris_2d[np.random.randint(150, size=20), np.random.randint(4, size=20)] = np.nan\n",
    "\n",
    "print(\"Quantidade de valores ausentes:\",np.isnan(iris_2d[:,0]).sum())\n",
    "print(\"Posicao deos valores ausentes:\", np.where(np.isnan(iris_2d[:,0])))"
   ]
  },
  {
   "cell_type": "markdown",
   "metadata": {},
   "source": [
    "7. Filtre o vetor iris_2d do exercício anterior para que ele tenha: (terceira coluna (petallength) > 1.5) && (primeira coluna (sepallength) < 5.0)"
   ]
  },
  {
   "cell_type": "code",
   "execution_count": 8,
   "metadata": {},
   "outputs": [
    {
     "data": {
      "text/plain": [
       "array([[4.8, 3.4, 1.6, 0.2],\n",
       "       [4.8, 3.4, 1.9, 0.2],\n",
       "       [4.7, 3.2, 1.6, 0.2],\n",
       "       [4.8, 3.1, 1.6, 0.2],\n",
       "       [4.9, 2.4, 3.3, 1. ],\n",
       "       [4.9, 2.5, 4.5, 1.7]])"
      ]
     },
     "execution_count": 8,
     "metadata": {},
     "output_type": "execute_result"
    }
   ],
   "source": [
    "# Entrada\n",
    "url = 'https://archive.ics.uci.edu/ml/machine-learning-databases/iris/iris.data'\n",
    "iris_2d = np.genfromtxt(url, delimiter=',', dtype='float', usecols=[0,1,2,3])\n",
    "\n",
    "condicao = (iris_2d[:,2]>1.5) & (iris_2d[:,0]<5.0)\n",
    "iris_2d[condicao]"
   ]
  },
  {
   "cell_type": "markdown",
   "metadata": {},
   "source": [
    "8. Selecione as linhas do vetor iris_2d que não contenham valores nan (Not a Number)."
   ]
  },
  {
   "cell_type": "code",
   "execution_count": 9,
   "metadata": {},
   "outputs": [
    {
     "data": {
      "text/plain": [
       "array([[5.1, 3.5, 1.4, 0.2],\n",
       "       [4.9, 3. , 1.4, 0.2],\n",
       "       [4.7, 3.2, 1.3, 0.2],\n",
       "       [4.6, 3.1, 1.5, 0.2],\n",
       "       [5. , 3.6, 1.4, 0.2]])"
      ]
     },
     "execution_count": 9,
     "metadata": {},
     "output_type": "execute_result"
    }
   ],
   "source": [
    "# Entrada\n",
    "url = 'https://archive.ics.uci.edu/ml/machine-learning-databases/iris/iris.data'\n",
    "iris_2d = np.genfromtxt(url, delimiter=',', dtype='float', usecols=[0,1,2,3])\n",
    "\n",
    "any_man_in_row = np.array([~np.any(np.isnan(row)) for row in iris_2d])\n",
    "iris_2d[any_man_in_row][:5]"
   ]
  },
  {
   "cell_type": "markdown",
   "metadata": {},
   "source": [
    "9. Encontre a correlação entre a primeira coluna (sepallength) e a (terceira coluna (petallength) no vetor iris_2d."
   ]
  },
  {
   "cell_type": "code",
   "execution_count": 10,
   "metadata": {},
   "outputs": [
    {
     "name": "stdout",
     "output_type": "stream",
     "text": [
      "[[1.         0.81795363]\n",
      " [0.81795363 1.        ]]\n"
     ]
    }
   ],
   "source": [
    "#Correlação entre sepallength e petallength\n",
    "\n",
    "petallength = iris[:,3].astype(float)\n",
    "\n",
    "correl = np.corrcoef(sepallength,petallength)\n",
    "print(correl)"
   ]
  },
  {
   "cell_type": "markdown",
   "metadata": {},
   "source": [
    "10. Verifique se o vetor iris_2d possui qualquer valor faltante, caso possui deverá retornar True caso contrário False."
   ]
  },
  {
   "cell_type": "code",
   "execution_count": 11,
   "metadata": {},
   "outputs": [
    {
     "name": "stdout",
     "output_type": "stream",
     "text": [
      "False\n"
     ]
    }
   ],
   "source": [
    "url = 'https://archive.ics.uci.edu/ml/machine-learning-databases/iris/iris.data'\n",
    "iris_2d = np.genfromtxt(url, delimiter=',', dtype='float', usecols=[0,1,2,3])\n",
    "\n",
    "quant = np.isnan(iris_2d).sum()\n",
    "\n",
    "if quant != 0:\n",
    "    print(True)\n",
    "else:\n",
    "    print(False)"
   ]
  },
  {
   "cell_type": "markdown",
   "metadata": {},
   "source": [
    "11. Substitua todas as ocorrências de nan (Not a Number) por zeros em um vetor NumPy."
   ]
  },
  {
   "cell_type": "code",
   "execution_count": 12,
   "metadata": {},
   "outputs": [
    {
     "name": "stdout",
     "output_type": "stream",
     "text": [
      "Quantidade de numeros faltantes: 20\n",
      "Localizaçao dos faltantes: (array([  7,  10,  17,  20,  21,  27,  29,  49,  63,  66,  73,  77,  83,\n",
      "        84,  88,  90,  97, 119, 121, 122]), array([2, 1, 0, 3, 0, 3, 3, 2, 0, 3, 2, 2, 2, 3, 1, 1, 1, 2, 2, 3]))\n",
      "\n",
      "\n",
      "Quantidade de numeros faltantes: 0\n"
     ]
    }
   ],
   "source": [
    "#importa o arquivo e gera posicoes com nan\n",
    "url = 'https://archive.ics.uci.edu/ml/machine-learning-databases/iris/iris.data'\n",
    "iris_2d = np.genfromtxt(url, delimiter=',', dtype='float', usecols=[0,1,2,3])\n",
    "iris_2d[np.random.randint(150, size=20), np.random.randint(4, size=20)] = np.nan\n",
    "\n",
    "#imprime na tela os numeros faltantes e suas localizaçoes\n",
    "print(\"Quantidade de numeros faltantes:\",np.isnan(iris_2d).sum())\n",
    "print(\"Localizaçao dos faltantes:\", np.where(np.isnan(iris_2d)))\n",
    "print(\"\\n\")\n",
    "\n",
    "#substitui os nan por 0\n",
    "iris_2d[np.isnan(iris_2d)] = 0\n",
    "\n",
    "print(\"Quantidade de numeros faltantes:\",np.isnan(iris_2d).sum())"
   ]
  },
  {
   "cell_type": "markdown",
   "metadata": {},
   "source": [
    "12. Encontre e conte os valores únicos da coluna species"
   ]
  },
  {
   "cell_type": "code",
   "execution_count": 13,
   "metadata": {},
   "outputs": [
    {
     "name": "stdout",
     "output_type": "stream",
     "text": [
      "O tipo b'Iris-setosa' apareceu 50 vezes\n",
      "O tipo b'Iris-versicolor' apareceu 50 vezes\n",
      "O tipo b'Iris-virginica' apareceu 50 vezes\n"
     ]
    }
   ],
   "source": [
    "# Entrada\n",
    "url = 'https://archive.ics.uci.edu/ml/machine-learning-databases/iris/iris.data'\n",
    "iris = np.genfromtxt(url, delimiter=',', dtype='object')\n",
    "names = ('sepallength', 'sepalwidth', 'petallength', 'petalwidth', 'species')\n",
    "\n",
    "#captura a quantidade de valores unicos em de cada tipo de especies.\n",
    "valor = np.array(np.unique(iris[:,4], return_counts=True)).T\n",
    "for nome, quant in valor:\n",
    "    print(\"O tipo\",nome,\"apareceu\",quant, \"vezes\")"
   ]
  },
  {
   "cell_type": "markdown",
   "metadata": {},
   "source": [
    "13. Mapeie terceira coluna (petallength) de tal forma que os valores numéricos sejam substituídos por valores textuais, seguindo de acordo com a tabela abaixo:\n",
    "\n",
    "| Número               | Classificação                \n",
    "|:---------------------|:--------------|\n",
    "| Menor do que 3       | Pequena       |\n",
    "| entre 3 e 5          | Média         |\n",
    "| Maior ou Igual a 5   | Grande        |"
   ]
  },
  {
   "cell_type": "code",
   "execution_count": 14,
   "metadata": {},
   "outputs": [
    {
     "data": {
      "text/plain": [
       "array(['Pequena', 'Pequena', 'Pequena', 'Pequena', 'Pequena', 'Media',\n",
       "       'Media', 'Pequena', 'Pequena', 'Pequena', 'Pequena', 'Pequena',\n",
       "       'Pequena', 'Pequena', 'Pequena', 'Media', 'Media', 'Media',\n",
       "       'Media', 'Media', 'Pequena', 'Media', 'Pequena', 'Grande',\n",
       "       'Pequena', 'Pequena', 'Media', 'Pequena', 'Pequena', 'Pequena',\n",
       "       'Pequena', 'Media', 'Pequena', 'Pequena', 'Pequena', 'Pequena',\n",
       "       'Pequena', 'Pequena', 'Pequena', 'Pequena', 'Media', 'Media',\n",
       "       'Pequena', 'Grande', 'Media', 'Media', 'Pequena', 'Pequena',\n",
       "       'Pequena', 'Pequena', 'Grande', 'Grande', 'Grande', 'Grande',\n",
       "       'Grande', 'Grande', 'Grande', 'Grande', 'Grande', 'Grande',\n",
       "       'Grande', 'Grande', 'Grande', 'Grande', 'Grande', 'Grande',\n",
       "       'Grande', 'Grande', 'Grande', 'Grande', 'Grande', 'Grande',\n",
       "       'Grande', 'Grande', 'Grande', 'Grande', 'Grande', 'Grande',\n",
       "       'Grande', 'Grande', 'Grande', 'Grande', 'Grande', 'Grande',\n",
       "       'Grande', 'Grande', 'Grande', 'Grande', 'Grande', 'Grande',\n",
       "       'Grande', 'Grande', 'Grande', 'Grande', 'Grande', 'Grande',\n",
       "       'Grande', 'Grande', 'Grande', 'Grande', 'Grande', 'Grande',\n",
       "       'Grande', 'Grande', 'Grande', 'Grande', 'Grande', 'Grande',\n",
       "       'Grande', 'Grande', 'Grande', 'Grande', 'Grande', 'Grande',\n",
       "       'Grande', 'Grande', 'Grande', 'Grande', 'Grande', 'Grande',\n",
       "       'Grande', 'Grande', 'Grande', 'Grande', 'Grande', 'Grande',\n",
       "       'Grande', 'Grande', 'Grande', 'Grande', 'Grande', 'Grande',\n",
       "       'Grande', 'Grande', 'Grande', 'Grande', 'Grande', 'Grande',\n",
       "       'Grande', 'Grande', 'Grande', 'Grande', 'Grande', 'Grande',\n",
       "       'Grande', 'Grande', 'Grande', 'Grande', 'Grande', 'Grande'],\n",
       "      dtype=object)"
      ]
     },
     "execution_count": 14,
     "metadata": {},
     "output_type": "execute_result"
    }
   ],
   "source": [
    "# Entrada\n",
    "url = 'https://archive.ics.uci.edu/ml/machine-learning-databases/iris/iris.data'\n",
    "iris = np.genfromtxt(url, delimiter=',', dtype='object')\n",
    "nomes = ('sepallength', 'sepalwidth', 'petallength', 'petalwidth', 'species')\n",
    "\n",
    "#criando um novo arquivo para manipulação dos dados\n",
    "iris_3d = iris\n",
    "\n",
    "#classificação pelo tamanho\n",
    "peq = iris_3d[:,3].astype(float) < 0.3\n",
    "media = (iris_3d[:,3].astype(float) >= 0.3) & (iris_3d[:,3].astype(float) < 0.5)\n",
    "grande = iris_3d[:,3].astype(float) >= 0.5\n",
    "\n",
    "#mapeando os valores de acordo com o tamanho\n",
    "iris_3d[peq] = 'Pequena'\n",
    "iris_3d[media] = 'Media'\n",
    "iris_3d[grande]= 'Grande'\n",
    "iris_3d[:,3]"
   ]
  },
  {
   "cell_type": "markdown",
   "metadata": {},
   "source": [
    "14. Crie uma nova coluna chamada *volume*, preenchida com dados resultantes da seguinte equação:\n",
    "\n",
    "$$volume=\\frac{(~ Pi ~x~ Petallength ~x~ Sepal Length^2 ~)}{3}$$\n"
   ]
  },
  {
   "cell_type": "code",
   "execution_count": 55,
   "metadata": {},
   "outputs": [
    {
     "name": "stdout",
     "output_type": "stream",
     "text": [
      "[[b'5.1' b'3.5' b'1.4' b'0.2' b'Iris-setosa' 5.447521661324701]\n",
      " [b'4.9' b'3.0' b'1.4' b'0.2' b'Iris-setosa' 5.028642640846063]\n",
      " [b'4.7' b'3.2' b'1.3' b'0.2' b'Iris-setosa' 4.62651878118657]\n",
      " [b'4.6' b'3.1' b'1.5' b'0.2' b'Iris-setosa' 4.431740036664]\n",
      " [b'5.0' b'3.6' b'1.4' b'0.2' b'Iris-setosa' 5.235987755982989]\n",
      " [b'5.4' b'3.9' b'1.7' b'0.4' b'Iris-setosa' 12.214512237157116]\n",
      " [b'4.6' b'3.4' b'1.4' b'0.3' b'Iris-setosa' 6.647610054996001]\n",
      " [b'5.0' b'3.4' b'1.5' b'0.2' b'Iris-setosa' 5.235987755982989]\n",
      " [b'4.4' b'2.9' b'1.4' b'0.2' b'Iris-setosa' 4.054748918233227]\n",
      " [b'4.9' b'3.1' b'1.5' b'0.1' b'Iris-setosa' 2.5143213204230315]\n",
      " [b'5.4' b'3.7' b'1.5' b'0.2' b'Iris-setosa' 6.107256118578558]\n",
      " [b'4.8' b'3.4' b'1.6' b'0.2' b'Iris-setosa' 4.825486315913922]\n",
      " [b'4.8' b'3.0' b'1.4' b'0.1' b'Iris-setosa' 2.412743157956961]\n",
      " [b'4.3' b'3.0' b'1.1' b'0.1' b'Iris-setosa' 1.9362682721625089]\n",
      " [b'5.8' b'4.0' b'1.2' b'0.2' b'Iris-setosa' 7.045545124450709]\n",
      " [b'5.7' b'4.4' b'1.5' b'0.4' b'Iris-setosa' 13.609379375350985]\n",
      " [b'5.4' b'3.9' b'1.3' b'0.4' b'Iris-setosa' 12.214512237157116]\n",
      " [b'5.1' b'3.5' b'1.4' b'0.3' b'Iris-setosa' 8.171282491987052]\n",
      " [b'5.7' b'3.8' b'1.7' b'0.3' b'Iris-setosa' 10.207034531513239]\n",
      " [b'5.1' b'3.8' b'1.5' b'0.3' b'Iris-setosa' 8.171282491987052]\n",
      " [b'5.4' b'3.4' b'1.7' b'0.2' b'Iris-setosa' 6.107256118578558]\n",
      " [b'5.1' b'3.7' b'1.5' b'0.4' b'Iris-setosa' 10.895043322649402]\n",
      " [b'4.6' b'3.6' b'1.0' b'0.2' b'Iris-setosa' 4.431740036664]\n",
      " [b'5.1' b'3.3' b'1.7' b'0.5' b'Iris-setosa' 13.618804153311752]\n",
      " [b'4.8' b'3.4' b'1.9' b'0.2' b'Iris-setosa' 4.825486315913922]\n",
      " [b'5.0' b'3.0' b'1.6' b'0.2' b'Iris-setosa' 5.235987755982989]\n",
      " [b'5.0' b'3.4' b'1.6' b'0.4' b'Iris-setosa' 10.471975511965978]\n",
      " [b'5.2' b'3.5' b'1.5' b'0.2' b'Iris-setosa' 5.663244356871201]\n",
      " [b'5.2' b'3.4' b'1.4' b'0.2' b'Iris-setosa' 5.663244356871201]\n",
      " [b'4.7' b'3.2' b'1.6' b'0.2' b'Iris-setosa' 4.62651878118657]\n",
      " [b'4.8' b'3.1' b'1.6' b'0.2' b'Iris-setosa' 4.825486315913922]\n",
      " [b'5.4' b'3.4' b'1.5' b'0.4' b'Iris-setosa' 12.214512237157116]\n",
      " [b'5.2' b'4.1' b'1.5' b'0.1' b'Iris-setosa' 2.8316221784356004]\n",
      " [b'5.5' b'4.2' b'1.4' b'0.2' b'Iris-setosa' 6.335545184739416]\n",
      " [b'4.9' b'3.1' b'1.5' b'0.1' b'Iris-setosa' 2.5143213204230315]\n",
      " [b'5.0' b'3.2' b'1.2' b'0.2' b'Iris-setosa' 5.235987755982989]\n",
      " [b'5.5' b'3.5' b'1.3' b'0.2' b'Iris-setosa' 6.335545184739416]\n",
      " [b'4.9' b'3.1' b'1.5' b'0.1' b'Iris-setosa' 2.5143213204230315]\n",
      " [b'4.4' b'3.0' b'1.3' b'0.2' b'Iris-setosa' 4.054748918233227]\n",
      " [b'5.1' b'3.4' b'1.5' b'0.2' b'Iris-setosa' 5.447521661324701]\n",
      " [b'5.0' b'3.5' b'1.3' b'0.3' b'Iris-setosa' 7.853981633974482]\n",
      " [b'4.5' b'2.3' b'1.3' b'0.3' b'Iris-setosa' 6.3617251235193315]\n",
      " [b'4.4' b'3.2' b'1.3' b'0.2' b'Iris-setosa' 4.054748918233227]\n",
      " [b'5.0' b'3.5' b'1.6' b'0.6' b'Iris-setosa' 15.707963267948964]\n",
      " [b'5.1' b'3.8' b'1.9' b'0.4' b'Iris-setosa' 10.895043322649402]\n",
      " [b'4.8' b'3.0' b'1.4' b'0.3' b'Iris-setosa' 7.2382294738708834]\n",
      " [b'5.1' b'3.8' b'1.6' b'0.2' b'Iris-setosa' 5.447521661324701]\n",
      " [b'4.6' b'3.2' b'1.4' b'0.2' b'Iris-setosa' 4.431740036664]\n",
      " [b'5.3' b'3.7' b'1.5' b'0.2' b'Iris-setosa' 5.883155842622486]\n",
      " [b'5.0' b'3.3' b'1.4' b'0.2' b'Iris-setosa' 5.235987755982989]\n",
      " [b'7.0' b'3.2' b'4.7' b'1.4' b'Iris-versicolor' 71.8377520120866]\n",
      " [b'6.4' b'3.2' b'4.5' b'1.5' b'Iris-versicolor' 64.33981754551898]\n",
      " [b'6.9' b'3.1' b'4.9' b'1.5' b'Iris-versicolor' 74.78561311870503]\n",
      " [b'5.5' b'2.3' b'4.0' b'1.3' b'Iris-versicolor' 41.18104370080621]\n",
      " [b'6.5' b'2.8' b'4.6' b'1.5' b'Iris-versicolor' 66.36614480708438]\n",
      " [b'5.7' b'2.8' b'4.5' b'1.3' b'Iris-versicolor' 44.230482969890694]\n",
      " [b'6.3' b'3.3' b'4.7' b'1.6' b'Iris-versicolor' 66.50123329118874]\n",
      " [b'4.9' b'2.4' b'3.3' b'1.0' b'Iris-versicolor' 25.143213204230317]\n",
      " [b'6.6' b'2.9' b'4.6' b'1.3' b'Iris-versicolor' 59.30070292916093]\n",
      " [b'5.2' b'2.7' b'3.9' b'1.4' b'Iris-versicolor' 39.6427104980984]\n",
      " [b'5.0' b'2.0' b'3.5' b'1.0' b'Iris-versicolor' 26.179938779914945]\n",
      " [b'5.9' b'3.0' b'4.2' b'1.5' b'Iris-versicolor' 54.679420135730346]\n",
      " [b'6.0' b'2.2' b'4.0' b'1.0' b'Iris-versicolor' 37.69911184307752]\n",
      " [b'6.1' b'2.9' b'4.7' b'1.4' b'Iris-versicolor' 54.55270923203555]\n",
      " [b'5.6' b'2.9' b'3.6' b'1.3' b'Iris-versicolor' 42.69214976718289]\n",
      " [b'6.7' b'3.1' b'4.4' b'1.4' b'Iris-versicolor' 65.81217730250138]\n",
      " [b'5.6' b'3.0' b'4.5' b'1.5' b'Iris-versicolor' 49.260172808287955]\n",
      " [b'5.8' b'2.7' b'4.1' b'1.0' b'Iris-versicolor' 35.22772562225355]\n",
      " [b'6.2' b'2.2' b'4.5' b'1.5' b'Iris-versicolor' 60.38141080199583]\n",
      " [b'5.6' b'2.5' b'3.9' b'1.1' b'Iris-versicolor' 36.12412672607783]\n",
      " [b'5.9' b'3.2' b'4.8' b'1.8' b'Iris-versicolor' 65.61530416287643]\n",
      " [b'6.1' b'2.8' b'4.0' b'1.3' b'Iris-versicolor' 50.656087144033016]\n",
      " [b'6.3' b'2.5' b'4.9' b'1.5' b'Iris-versicolor' 62.344906210489434]\n",
      " [b'6.1' b'2.8' b'4.7' b'1.2' b'Iris-versicolor' 46.75946505603047]\n",
      " [b'6.4' b'2.9' b'4.3' b'1.3' b'Iris-versicolor' 55.76117520611644]\n",
      " [b'6.6' b'3.0' b'4.4' b'1.4' b'Iris-versicolor' 63.86229546217331]\n",
      " [b'6.8' b'2.8' b'4.8' b'1.4' b'Iris-versicolor' 67.79138067426294]\n",
      " [b'6.7' b'3.0' b'5.0' b'1.7' b'Iris-versicolor' 79.91478672446597]\n",
      " [b'6.0' b'2.9' b'4.5' b'1.5' b'Iris-versicolor' 56.548667764616276]\n",
      " [b'5.7' b'2.6' b'3.5' b'1.0' b'Iris-versicolor' 34.023448438377464]\n",
      " [b'5.5' b'2.4' b'3.8' b'1.1' b'Iris-versicolor' 34.84549851606679]\n",
      " [b'5.5' b'2.4' b'3.7' b'1.0' b'Iris-versicolor' 31.677725923697082]\n",
      " [b'5.8' b'2.7' b'3.9' b'1.2' b'Iris-versicolor' 42.273270746704256]\n",
      " [b'6.0' b'2.7' b'5.1' b'1.6' b'Iris-versicolor' 60.31857894892403]\n",
      " [b'5.4' b'3.0' b'4.5' b'1.5' b'Iris-versicolor' 45.80442088933919]\n",
      " [b'6.0' b'3.4' b'4.5' b'1.6' b'Iris-versicolor' 60.31857894892403]\n",
      " [b'6.7' b'3.1' b'4.7' b'1.5' b'Iris-versicolor' 70.5130471098229]\n",
      " [b'6.3' b'2.3' b'4.4' b'1.3' b'Iris-versicolor' 54.03225204909085]\n",
      " [b'5.6' b'3.0' b'4.1' b'1.3' b'Iris-versicolor' 42.69214976718289]\n",
      " [b'5.5' b'2.5' b'4.0' b'1.3' b'Iris-versicolor' 41.18104370080621]\n",
      " [b'5.5' b'2.6' b'4.4' b'1.2' b'Iris-versicolor' 38.0132711084365]\n",
      " [b'6.1' b'3.0' b'4.6' b'1.4' b'Iris-versicolor' 54.55270923203555]\n",
      " [b'5.8' b'2.6' b'4.0' b'1.2' b'Iris-versicolor' 42.273270746704256]\n",
      " [b'5.0' b'2.3' b'3.3' b'1.0' b'Iris-versicolor' 26.179938779914945]\n",
      " [b'5.6' b'2.7' b'4.2' b'1.3' b'Iris-versicolor' 42.69214976718289]\n",
      " [b'5.7' b'3.0' b'4.2' b'1.2' b'Iris-versicolor' 40.828138126052956]\n",
      " [b'5.7' b'2.9' b'4.2' b'1.3' b'Iris-versicolor' 44.230482969890694]\n",
      " [b'6.2' b'2.9' b'4.3' b'1.3' b'Iris-versicolor' 52.33055602839639]\n",
      " [b'5.1' b'2.5' b'3.0' b'1.1' b'Iris-versicolor' 29.961369137285857]\n",
      " [b'5.7' b'2.8' b'4.1' b'1.3' b'Iris-versicolor' 44.230482969890694]\n",
      " [b'6.3' b'3.3' b'6.0' b'2.5' b'Iris-virginica' 103.9081770174824]\n",
      " [b'5.8' b'2.7' b'5.1' b'1.9' b'Iris-virginica' 66.93267868228175]\n",
      " [b'7.1' b'3.0' b'5.9' b'2.1' b'Iris-virginica' 110.85737996722303]\n",
      " [b'6.3' b'2.9' b'5.6' b'1.8' b'Iris-virginica' 74.81388745258734]\n",
      " [b'6.5' b'3.0' b'5.8' b'2.2' b'Iris-virginica' 97.33701238372377]\n",
      " [b'7.6' b'3.0' b'6.6' b'2.1' b'Iris-virginica' 127.0208741699425]\n",
      " [b'4.9' b'2.5' b'4.5' b'1.7' b'Iris-virginica' 42.74346244719154]\n",
      " [b'7.3' b'2.9' b'6.3' b'1.8' b'Iris-virginica' 100.44928350588005]\n",
      " [b'6.7' b'2.5' b'5.8' b'1.8' b'Iris-virginica' 84.6156565317875]\n",
      " [b'7.2' b'3.6' b'6.1' b'2.5' b'Iris-virginica' 135.71680263507906]\n",
      " [b'6.5' b'3.2' b'5.1' b'2.0' b'Iris-virginica' 88.48819307611251]\n",
      " [b'6.4' b'2.7' b'5.3' b'1.9' b'Iris-virginica' 81.49710222432404]\n",
      " [b'6.8' b'3.0' b'5.5' b'2.1' b'Iris-virginica' 101.68707101139442]\n",
      " [b'5.7' b'2.5' b'5.0' b'2.0' b'Iris-virginica' 68.04689687675493]\n",
      " [b'5.8' b'2.8' b'5.1' b'2.4' b'Iris-virginica' 84.54654149340851]\n",
      " [b'6.4' b'3.2' b'5.3' b'2.3' b'Iris-virginica' 98.65438690312908]\n",
      " [b'6.5' b'3.0' b'5.5' b'1.8' b'Iris-virginica' 79.63937376850126]\n",
      " [b'7.7' b'3.8' b'6.7' b'2.2' b'Iris-virginica' 136.59435418298185]\n",
      " [b'7.7' b'2.6' b'6.9' b'2.3' b'Iris-virginica' 142.80318846402642]\n",
      " [b'6.0' b'2.2' b'5.0' b'1.5' b'Iris-virginica' 56.548667764616276]\n",
      " [b'6.9' b'3.2' b'5.7' b'2.3' b'Iris-virginica' 114.67127344868105]\n",
      " [b'5.6' b'2.8' b'4.9' b'2.0' b'Iris-virginica' 65.6802304110506]\n",
      " [b'7.7' b'2.8' b'6.7' b'2.0' b'Iris-virginica' 124.17668562089257]\n",
      " [b'6.3' b'2.7' b'4.9' b'1.8' b'Iris-virginica' 74.81388745258734]\n",
      " [b'6.7' b'3.3' b'5.7' b'2.1' b'Iris-virginica' 98.71826595375207]\n",
      " [b'7.2' b'3.2' b'6.0' b'1.8' b'Iris-virginica' 97.71609789725693]\n",
      " [b'6.2' b'2.8' b'4.8' b'1.8' b'Iris-virginica' 72.457692962395]\n",
      " [b'6.1' b'3.0' b'4.9' b'1.8' b'Iris-virginica' 70.1391975840457]\n",
      " [b'6.4' b'2.8' b'5.6' b'2.1' b'Iris-virginica' 90.07574456372657]\n",
      " [b'7.2' b'3.0' b'5.8' b'1.6' b'Iris-virginica' 86.8587536864506]\n",
      " [b'7.4' b'2.8' b'6.1' b'1.9' b'Iris-virginica' 108.95462201669882]\n",
      " [b'7.9' b'3.8' b'6.4' b'2.0' b'Iris-virginica' 130.71119834035935]\n",
      " [b'6.4' b'2.8' b'5.6' b'2.2' b'Iris-virginica' 94.36506573342784]\n",
      " [b'6.3' b'2.8' b'5.1' b'1.5' b'Iris-virginica' 62.344906210489434]\n",
      " [b'6.1' b'2.6' b'5.6' b'1.4' b'Iris-virginica' 54.55270923203555]\n",
      " [b'7.7' b'3.0' b'6.1' b'2.3' b'Iris-virginica' 142.80318846402642]\n",
      " [b'6.3' b'3.4' b'5.6' b'2.4' b'Iris-virginica' 99.7518499367831]\n",
      " [b'6.4' b'3.1' b'5.5' b'1.8' b'Iris-virginica' 77.20778105462277]\n",
      " [b'6.0' b'3.0' b'4.8' b'1.8' b'Iris-virginica' 67.85840131753953]\n",
      " [b'6.9' b'3.1' b'5.4' b'2.1' b'Iris-virginica' 104.69985836618706]\n",
      " [b'6.7' b'3.1' b'5.6' b'2.4' b'Iris-virginica' 112.82087537571665]\n",
      " [b'6.9' b'3.1' b'5.1' b'2.3' b'Iris-virginica' 114.67127344868105]\n",
      " [b'5.8' b'2.7' b'5.1' b'1.9' b'Iris-virginica' 66.93267868228175]\n",
      " [b'6.8' b'3.2' b'5.9' b'2.3' b'Iris-virginica' 111.37155396486054]\n",
      " [b'6.7' b'3.3' b'5.7' b'2.5' b'Iris-virginica' 117.52174518303819]\n",
      " [b'6.7' b'3.0' b'5.2' b'2.3' b'Iris-virginica' 108.12000556839511]\n",
      " [b'6.3' b'2.5' b'5.0' b'1.9' b'Iris-virginica' 78.97021453328662]\n",
      " [b'6.5' b'3.0' b'5.2' b'2.0' b'Iris-virginica' 88.48819307611251]\n",
      " [b'6.2' b'3.4' b'5.4' b'2.3' b'Iris-virginica' 92.5848298963936]\n",
      " [b'5.9' b'3.0' b'5.1' b'1.8' b'Iris-virginica' 65.61530416287643]]\n"
     ]
    }
   ],
   "source": [
    "import math\n",
    "\n",
    "# Entrada de dados\n",
    "url = 'https://archive.ics.uci.edu/ml/machine-learning-databases/iris/iris.data'\n",
    "iris_2d = np.genfromtxt(url, delimiter=',', dtype='object')\n",
    "nomes = ('sepallength', 'sepalwidth', 'petallength', 'petalwidth', 'species')\n",
    "\n",
    "volume = (math.pi * petallength * (sepallength**2))/3\n",
    "\n",
    "#foi inserido na 5 coluna os valores de volume\n",
    "iris_4d = np.insert(iris_2d, 5,volume, axis=1)\n",
    "print(iris_4d)"
   ]
  },
  {
   "cell_type": "markdown",
   "metadata": {},
   "source": [
    "15. Usando NumPy e o dataset iris responda: Qual é o segundo maior valor de comprimento de pétala (petallength) da espécie setosa?"
   ]
  },
  {
   "cell_type": "code",
   "execution_count": 111,
   "metadata": {},
   "outputs": [],
   "source": [
    "#entranda de dados\n",
    "url = 'https://archive.ics.uci.edu/ml/machine-learning-databases/iris/iris.data'\n",
    "iris = np.genfromtxt(url, delimiter=',', dtype='object')\n",
    "nomes = ('sepallength', 'sepalwidth', 'petallength', 'petalwidth', 'species')\n"
   ]
  },
  {
   "cell_type": "code",
   "execution_count": null,
   "metadata": {},
   "outputs": [],
   "source": [
    "16. Ordene o dataset iris com base na coluna sepallength de maneira crescente.\n",
    "\n",
    "```python\n",
    "# Entrada\n",
    "url = 'https://archive.ics.uci.edu/ml/machine-learning-databases/iris/iris.data'\n",
    "iris = np.genfromtxt(url, delimiter=',', dtype='object')\n",
    "nomes = ('sepallength', 'sepalwidth', 'petallength', 'petalwidth', 'species')\n",
    "```"
   ]
  },
  {
   "cell_type": "code",
   "execution_count": null,
   "metadata": {},
   "outputs": [],
   "source": [
    "17. Encontre o valor mais frequente da terceira coluna (petallength) do dataset iris.\n",
    "\n",
    "```python\n",
    "# Entrada\n",
    "url = 'https://archive.ics.uci.edu/ml/machine-learning-databases/iris/iris.data'\n",
    "iris = np.genfromtxt(url, delimiter=',', dtype='object')\n",
    "nomes = ('sepallength', 'sepalwidth', 'petallength', 'petalwidth', 'species')\n",
    "```"
   ]
  },
  {
   "cell_type": "code",
   "execution_count": null,
   "metadata": {},
   "outputs": [],
   "source": [
    "18. Encontre a posição da primeira ocorrência de um valor maior do que 1.0 da quarta coluna (petalwidth) do dataset iris.\n",
    "\n",
    "```python\n",
    "# Entrada\n",
    "url = 'https://archive.ics.uci.edu/ml/machine-learning-databases/iris/iris.data'\n",
    "iris = np.genfromtxt(url, delimiter=',', dtype='object')\n",
    "```"
   ]
  },
  {
   "cell_type": "code",
   "execution_count": null,
   "metadata": {},
   "outputs": [],
   "source": [
    "19. Obtenha a posição dos top 5 valores maíximos do vetor abaixo:\n",
    "\n",
    "```python\n",
    "# Entrada\n",
    "np.random.seed(100)\n",
    "vetor = np.random.uniform(1,50, 20)\n",
    "```"
   ]
  },
  {
   "cell_type": "code",
   "execution_count": null,
   "metadata": {},
   "outputs": [],
   "source": []
  },
  {
   "cell_type": "markdown",
   "metadata": {},
   "source": [
    "20. Encontre a média de uma coluna numérica agrupada por uma coluna categórica em uma matriz (vetor numpy 2D)\n",
    "\n",
    "```python\n",
    "# Entrada\n",
    "url = 'https://archive.ics.uci.edu/ml/machine-learning-databases/iris/iris.data'\n",
    "iris = np.genfromtxt(url, delimiter=',', dtype='object')\n",
    "names = ('sepallength', 'sepalwidth', 'petallength', 'petalwidth', 'species')\n",
    "\n",
    "# Saída Esperada\n",
    "#>  [[b'Iris-setosa', 3.418],\n",
    "#>  [b'Iris-versicolor', 2.770],\n",
    "#>  [b'Iris-virginica', 2.974]] \n",
    "```"
   ]
  },
  {
   "cell_type": "code",
   "execution_count": null,
   "metadata": {},
   "outputs": [],
   "source": []
  }
 ],
 "metadata": {
  "kernelspec": {
   "display_name": "Python 3",
   "language": "python",
   "name": "python3"
  },
  "language_info": {
   "codemirror_mode": {
    "name": "ipython",
    "version": 3
   },
   "file_extension": ".py",
   "mimetype": "text/x-python",
   "name": "python",
   "nbconvert_exporter": "python",
   "pygments_lexer": "ipython3",
   "version": "3.6.5"
  }
 },
 "nbformat": 4,
 "nbformat_minor": 2
}
