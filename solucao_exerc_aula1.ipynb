{
 "cells": [
  {
   "cell_type": "markdown",
   "metadata": {},
   "source": [
    "# Bem-Vindo ao Mundo Python!"
   ]
  },
  {
   "cell_type": "markdown",
   "metadata": {},
   "source": [
    "## Exercício 1\n",
    "*Calculando o IMC*\n",
    "\n",
    "O Índice de Massa Corporal (IMC) é uma medida internacional usada para calcular se uma pessoa está em seu peso ideal.\n",
    "O cálculo do IMC é determinado pela divisão da massa do indivíduo em quilogramas pelo quadrado de sua altura em metros.\n",
    "\n",
    "\n",
    "\n",
    "$$IMC=\\frac{massa}{(altura * altura)}$$\n",
    "\n",
    "\n",
    "\n",
    "Escreva um programa que leia do usuário sua altura e peso e calcule seu IMC.\n"
   ]
  },
  {
   "cell_type": "code",
   "execution_count": null,
   "metadata": {},
   "outputs": [],
   "source": [
    "# TODO: Complete o Código Abaixo\n",
    "altura = float(input('Altura: '))\n",
    "peso = float(input('Peso: '))\n",
    "imc = peso / (altura * altura)\n",
    "\n",
    "print(\"IMC: %.2f \" %imc)\n",
    "print(\"Você está com a classificação do tipo:\")\n",
    "if imc < 18.5:\n",
    "    print('Abaixo do peso!')\n",
    "elif imc >= 18.5 and imc <25:\n",
    "    print('Peso normal!')\n",
    "elif imc >= 25 and imc <30:\n",
    "    print('Sobrepeso!')\n",
    "elif imc >=30:\n",
    "    print('Obesidade!')\n",
    "    "
   ]
  },
  {
   "cell_type": "markdown",
   "metadata": {},
   "source": [
    "## Exercícios\n",
    "\n",
    "1. O que o código a seguir imprime?\n",
    "\n",
    "```python\n",
    "print(“*\\n**\\n***\\n****\\n*****”)\n",
    "```\n",
    "\n",
    "2. O que aparece na janela do console, quando cada uma das instruções abaixo são executadas, para: x = 2 e y = 3? Execute cada uma das linhas abaixos e, se necessário, faça os devidos ajustes no código.\n",
    "    1. *print(“x = ” + x);*\n",
    "    2. *print(“O valor de x + x é ” + (x + x));*\n",
    "    3. *print(“x = ”);*\n",
    "    4. *print((x + y) + “ = “ + (y + x));*\n",
    "\n",
    "\n",
    "3. Escreva um programa que leia o nome, o sobrenome e o número de matrícula de um estudante. Em seguida, formate e imprima os dados lidos da seguinte forma: [matrícula] nome sobrenome.\n",
    "\n",
    "4. Escreva um programa que solicite do usuário dois números, e imprima o resultado da soma, subtração, multiplicação e divisão.\n",
    "\n",
    "5. Escreva um programa que receba como entrada o raio de um círculo e imprima o diâmetro, a circunferência e a área. Para isso, utilize as fórmulas: diâmetro = 2r; circunferência = 2πr, área = πr².\n",
    "\n",
    "6. Escreva um programa que receba como entrada um número de 5 dígitos, separe o número em dígitos individuais e os imprima separados por 3 espaços cada um. Por exemplo, se o usuário digitar 42339, o programa deverá imprimir: 4    2    3    3.   Dica: utilize as operações de divisão e módulo para extrair cada dígito do número."
   ]
  },
  {
   "cell_type": "code",
   "execution_count": null,
   "metadata": {},
   "outputs": [],
   "source": [
    "#1. O que o código a seguir imprime?\n",
    "print('*\\n**\\n***\\n****\\n*****')"
   ]
  },
  {
   "cell_type": "code",
   "execution_count": null,
   "metadata": {},
   "outputs": [],
   "source": [
    "#2. O que aparece na janela do console, quando cada uma das instruções abaixo são executadas, para: x = 2 e y = 3? Execute cada uma das linhas abaixos e, se necessário, faça os devidos ajustes no código.\n",
    "#    1. *print(“x = ” + x);*\n",
    "#    2. *print(“O valor de x + x é ” + (x + x));*\n",
    "#    3. *print(“x = ”);*\n",
    "#    4. *print((x + y) + “ = “ + (y + x));*\n",
    "\n",
    "\n",
    "x = 2\n",
    "y = 3\n",
    "print('x = ', + x)\n",
    "print('O valor de x + x é ', + (x + x))\n",
    "print('x = ')\n",
    "print((x + y) , '=' , (y + x))"
   ]
  },
  {
   "cell_type": "code",
   "execution_count": null,
   "metadata": {},
   "outputs": [],
   "source": [
    "#3)Escreva um programa que leia o nome, o sobrenome e o número de matrícula de um estudante. \n",
    "#Em seguida, formate e imprima os dados lidos da seguinte forma: [matrícula] nome sobrenome.\n",
    "\n",
    "nome = input('Digiete seu nome: ')\n",
    "sobrenome = input('Digite seu sobrenome: ')\n",
    "matri = int(input('Informe o número da matricula: '))\n",
    "\n",
    "print('[' , matri, ']', nome , sobrenome)\n",
    "print('[{:d}] {:s} {:s}'.format(matri,nome,sobrenome))\n"
   ]
  },
  {
   "cell_type": "code",
   "execution_count": null,
   "metadata": {},
   "outputs": [],
   "source": [
    "#4.Escreva um programa que solicite do usuário dois números, e imprima \n",
    "#o resultado da soma, subtração, multiplicação e divisão.\n",
    "\n",
    "x = float(input('Informe o primeiro número: '))\n",
    "y = float(input('Informe o segundo número: '))\n",
    "\n",
    "print('Soma:', int(x+y))\n",
    "print('Subtração:', int(x-y))\n",
    "print('Multiplicação: ', int(x*y))\n",
    "print('Divisão ', x/y)"
   ]
  },
  {
   "cell_type": "code",
   "execution_count": null,
   "metadata": {},
   "outputs": [],
   "source": [
    "#5.Escreva um programa que receba como entrada o raio de um círculo e imprima o diâmetro, \n",
    "#a circunferência e a área. \n",
    "#Para isso, utilize as fórmulas: diâmetro = 2r; circunferência = 2πr, área = πr².\n",
    "\n",
    "raio = float(input(\"Digite o valor: \"))\n",
    "diametro = 2 * raio\n",
    "circ = 2 * 3.14 * raio\n",
    "area = 3.14 *(raio**2)\n",
    "\n",
    "print('Diâmetro: ', diametro)\n",
    "print('Circunferência: {:.2f}'.format(circ))\n",
    "print('Área: ', area)\n"
   ]
  },
  {
   "cell_type": "code",
   "execution_count": null,
   "metadata": {},
   "outputs": [],
   "source": [
    "#6.Escreva um programa que receba como entrada um número de 5 dígitos, \n",
    "#separe o número em dígitos individuais e os imprima separados por 3 espaços cada um. \n",
    "#Por exemplo, se o usuário digitar 42339, o programa deverá imprimir: 4 2 3 3. \n",
    "#Dica: utilize as operações de divisão e módulo para extrair cada dígito do número.\n",
    "\n",
    "num = int(input('Informe o número com 5 dígitos:'))\n",
    "n1 = int((num%100000)/10000)\n",
    "n2 = int((num%10000)/1000)\n",
    "n3 = int((num%1000)/100)\n",
    "n4 = int((num%100)/10)\n",
    "n5 = int((num%10)/1)\n",
    "\n",
    "print(n1,\" \",n2,\" \",n3,\" \",n4,\" \",n5)"
   ]
  },
  {
   "cell_type": "markdown",
   "metadata": {},
   "source": [
    "Assim como o for, a estrutura de repetição while é usada para repetir um trecho de código várias vezes, porém, no while a repetição continua enquanto uma condição lógica definida seja verdadeira (True), veja alguns exemplos abaixo: \n",
    "\n",
    "```python\n",
    "while condicao: # enquanto condição for verdadeira\n",
    "    # Executa algum(ns) comando(s)\n",
    "    # Atualiza variável de controle\n",
    "```"
   ]
  },
  {
   "cell_type": "code",
   "execution_count": null,
   "metadata": {},
   "outputs": [],
   "source": [
    "contador = 0                 # Define uma variável de controle que será avaliada na condição\n",
    "\n",
    "while contador < 10:         # enquanto a condição (contador < 10) for verdadeira\n",
    "    print(contador)          # Executa algum comando: print(contador)\n",
    "    contador = contador + 1  # Atualiza a variável de controle\n",
    "    \n",
    "print(\"\\n\")\n",
    "\n",
    "\n",
    "# EXEMPLO: Algoritmo Fatorial Iterativo\n",
    "n = 3\n",
    "i = 1\n",
    "resultado = 1\n",
    "\n",
    "while i <= n:\n",
    "    resultado = resultado * i\n",
    "    i = i + 1\n",
    "    \n",
    "print(\"Fatorial de %d é %d\" % (n, resultado))\n",
    "    "
   ]
  },
  {
   "cell_type": "markdown",
   "metadata": {},
   "source": [
    "## Exercícios"
   ]
  },
  {
   "cell_type": "code",
   "execution_count": null,
   "metadata": {},
   "outputs": [],
   "source": [
    "#1.Escreva um programa que leia dois números inteiros que determine e verifique se o primeiro é um \n",
    "#múltiplo do segundo. Por exemplo: se o usuário digitar 15 e 3, o primeiro número será múltiplo do segundo; \n",
    "#se o usuário digitar 2 e 4, o primeiro número não será múltiplo do segundo. \n",
    "#Dica: use o operador módulo para obter o resto da divisão.\n",
    "\n",
    "n1 = int(input(\"Informe o primeiro número: \"))\n",
    "n2 = int(input(\"Informe o segundo número: \"))\n",
    "\n",
    "res = n1%n2\n",
    "if res == 0:\n",
    "    print(\"O primeiro número é multiplo do segundo!\")\n",
    "else:\n",
    "    print(\"O primeiro número não é multiplo do segundo!\")"
   ]
  },
  {
   "cell_type": "code",
   "execution_count": null,
   "metadata": {},
   "outputs": [],
   "source": [
    "#2.Escreva um programa que calcule o quadrado e o cubo dos números de 0 a 10, \n",
    "#e imprima os valores em forma de tabela. Número | Quadrado | Cubo\n",
    "num = range(11)\n",
    "\n",
    "print(\"Número\",\" Quadrado \",\" Cubo \", sep='|')\n",
    "\n",
    "for x in num:\n",
    "    print(\"{:2d}\".format(x),\"        {:2d}\".format(x**2),\"      {:2d}\".format(x**3))\n"
   ]
  },
  {
   "cell_type": "code",
   "execution_count": null,
   "metadata": {},
   "outputs": [],
   "source": [
    "#3.Escreva um programa que receba dois números inteiros como entrada e verifica qual deles é o maior.\n",
    "\n",
    "n1 = int(input(\"Informe o 1 número:\"))\n",
    "n2 = int(input(\"Informe o 2 número:\"))\n",
    "\n",
    "if n1>n2:\n",
    "    print(\"O número %d é maior que %d\" %(n1,n2))\n",
    "else:\n",
    "    print(\"O número %d é maior que %d\" %(n2,n1))"
   ]
  },
  {
   "cell_type": "code",
   "execution_count": null,
   "metadata": {},
   "outputs": [],
   "source": [
    "#4.Escreva um programa que leia apenas uma letra do alfabeto como entrada e classifique-a como vogal ou consoante. \n",
    "#Seu programa deverá aceitar como entrada apenas um caractere, ou seja, \n",
    "#se o usuário digitar dois ou mais caracteres, o sistema deverá informar ao usuário a entrada rejeitada.\n",
    "\n",
    "letra = input(\"Digite apenas uma letra:\")\n",
    "vogal = ['a','e','i','o','u']\n",
    "\n",
    "#o laço de repetição vai rodar ate o usuario digitar apenas uma palavra.\n",
    "while len(letra) > 1:\n",
    "    print(\"Você digitou mais de uma letra.\")\n",
    "    letra = input(\"Digite novamente apenas uma letra:\")\n",
    "    \n",
    "#usei o metodo lower para converter a string em minuscula caso seja passado uma maiuscula.\n",
    "if letra.lower() in vogal:\n",
    "    print(\"É uma vogal!\")\n",
    "else:\n",
    "    print(\"É uma consoante!\")\n",
    "    "
   ]
  },
  {
   "cell_type": "markdown",
   "metadata": {},
   "source": [
    "## Exercícios\n",
    "\n",
    "1. Uma empresa quer transmitir dados pelo telefone, mas está preocupada com a interceptação telefônica. Todos os seus dados são transmitidos como inteiros de quatro dígitos. Ela pediu para que você escreva um programa que criptografe seus dados, para que eles possam ser transmitidos com mais segurança. Seu aplicativo deve ler um inteiro de quatro dígitos fornecidos pelo usuário e criptografá-lo da seguinte forma: substitua cada dígitos por (a soma desse dígitos mais 7) módulo 10. Em seguida, troque o primeiro dígito pelo terceiro e troque o segundo dígito pelo quarto e imprima o inteiro criptografado."
   ]
  },
  {
   "cell_type": "code",
   "execution_count": 36,
   "metadata": {},
   "outputs": [
    {
     "name": "stdout",
     "output_type": "stream",
     "text": [
      "Informe os dados:1234\n",
      "O dado criptografado é:0189\n"
     ]
    }
   ],
   "source": [
    "#criando a funação\n",
    "def criptografia(d):\n",
    "    n1 = int((num%100000)/10000)\n",
    "    n2 = int((num%10000)/1000)\n",
    "    n3 = int((num%1000)/100)\n",
    "    n4 = int((num%100)/10)\n",
    "    n1 = (n1+7)%10\n",
    "    n2 = (n2+7)%10\n",
    "    n3 = (n3+7)%10\n",
    "    n4 = (n4+7)%10\n",
    "    print('O dado criptografado é:{0:d}{1:d}{2:d}{3:d}'.format(n3,n4,n1,n2))\n",
    "    \n",
    "#capiturando os dados.\n",
    "int(input(\"Informe os dados:\"))\n",
    "\n",
    "#função para criptografar os dados\n",
    "criptografia(dados)"
   ]
  },
  {
   "cell_type": "markdown",
   "metadata": {},
   "source": [
    "2. Implemente a função par que retorna verdadeiro se um número inteiro passado como parâmetro for par ou falso caso ele seja ímpar. Teste seu programa chamando a função para verificar os números de 0 à 10.\n"
   ]
  },
  {
   "cell_type": "code",
   "execution_count": null,
   "metadata": {},
   "outputs": [],
   "source": [
    "#funcao verifica se um numero é par\n",
    "def verificador(num):\n",
    "    if num%2 == 0:\n",
    "        print(\"O número %d é par.\" %num)\n",
    "    else:\n",
    "        print(\"O número %d é impar.\"%num)\n",
    "\n",
    "\n",
    "num = int(input(\"Informe um número:\"))\n",
    "\n",
    "verificador(num)\n",
    "\n",
    "print('\\n')\n",
    "\n",
    "#Verificaçao se os numeros de 0 a 10 sao pares.\n",
    "print(\"Verificando os números de 0 a 10\")\n",
    "for x in range(11):\n",
    "    verificador(x)"
   ]
  },
  {
   "cell_type": "markdown",
   "metadata": {},
   "source": [
    "3. Escreva um programa que leia 3 números inteiros referente ao comprimento dos lados de um triângulo e classifique como: triângulo equilátero, isósceles ou escaleno."
   ]
  },
  {
   "cell_type": "code",
   "execution_count": null,
   "metadata": {},
   "outputs": [],
   "source": [
    "#Programa de classificação de triangulos\n",
    "\n",
    "n1 = int(input(\"Informe o primeiro número:\"))\n",
    "n2 = int(input(\"Informe o segundo  número:\"))\n",
    "n3 = int(input(\"Informe o terceiro número:\"))\n",
    "\n",
    "#funcao de classificacao do triangulo\n",
    "def classif(n1,n2,n3):\n",
    "    if n1 == n2 and n1 == n3 and n2 == n3:\n",
    "        print(\"É um triângulo equilátero.\")\n",
    "    elif n1 != n2 and n1!= n3 and n2 != n3:\n",
    "        print(\"É um triângulo escaleno.\")\n",
    "    else:\n",
    "        print(\"É um triângulo isósceles.\")\n",
    "    \n",
    "classif(n1,n2,n3)"
   ]
  },
  {
   "cell_type": "markdown",
   "metadata": {},
   "source": [
    "4. Escreva um programa que aceita um número como entrada e insere hífens (-) entre dois números pares. Por exemplo, se receber o número 02368859 como entrada, a saída do programa deverá ser: 0-236-8-859."
   ]
  },
  {
   "cell_type": "code",
   "execution_count": null,
   "metadata": {},
   "outputs": [],
   "source": [
    "num = input(\"Informe os valores:\")\n",
    "\n",
    "def separador(num):\n",
    "    saida = ''\n",
    "    pares = '02468'\n",
    "    \n",
    "    for x in range(len(num)-1):\n",
    "        saida += num[x]\n",
    "        if num[x] in pares and num[x+1] in pares:\n",
    "            saida += '-'\n",
    "    saida += num[-1]\n",
    "    print(saida)\n",
    "\n",
    "\n",
    "separador(num)"
   ]
  },
  {
   "cell_type": "markdown",
   "metadata": {},
   "source": [
    "5. Escreva um programa que encontre o item mais frequente de um vetor. Exemplo: [2, 7, 7, 7, ‘#’, ‘#’, ‘#’, ‘@’, 3, ‘#’, 6]  // Saída: # aparece 4 vezes"
   ]
  },
  {
   "cell_type": "code",
   "execution_count": null,
   "metadata": {},
   "outputs": [],
   "source": [
    "from collections import Counter\n",
    "\n",
    "texto = input(\"Digite o texto:\")\n",
    "\n",
    "def contador(texto):\n",
    "    texto = texto.replace(' ','')\n",
    "    count = Counter(texto)\n",
    "    e = list(count.most_common(1))\n",
    "    print(\"O caractere %s apareceu %s vezes na frase.\" %e[0])\n",
    "\n",
    "contador(texto)"
   ]
  },
  {
   "cell_type": "markdown",
   "metadata": {},
   "source": [
    "6. Um número de Armstrong de 3 dígitos é um inteiro pelo qual a soma dos cubos dos seus dígitos é igual ao seu número. Por exemplo: o número inteiro 371 é um número de Armstrong, porque 3³ + 7³ + 1³ = 371. Escreva um programa que verifique se um número de 3 dígitos fornecido como entrada é um número de Armstrong."
   ]
  },
  {
   "cell_type": "code",
   "execution_count": null,
   "metadata": {},
   "outputs": [],
   "source": [
    "num = input(\"Informe o número Armstrong:\")\n",
    "\n",
    "def verfArmstrong(num):\n",
    "    resul = 0\n",
    "    resul2 = 0\n",
    "    pot = len(num)\n",
    "    for x in num:\n",
    "        resul = int(x)**pot\n",
    "        resul2 = resul2 + resul\n",
    "    if resul2 == int(num):\n",
    "        print(\"%d é um número de Armstrong.\" %(resul2))\n",
    "    else:\n",
    "        print(\"%d não é um número de Armstrong.\" %(resul2))\n",
    "\n",
    "verfArmstrong(num)"
   ]
  },
  {
   "cell_type": "markdown",
   "metadata": {},
   "source": [
    "7. Escreva uma função que receba uma string e conte o número de vogais dentro dela, por exemplo: entrada: ‘Ciência de Dados’, saída: 7 vogais"
   ]
  },
  {
   "cell_type": "code",
   "execution_count": null,
   "metadata": {},
   "outputs": [],
   "source": [
    "from unidecode import unidecode\n",
    "\n",
    "frase = input(\"Digite a frase:\")\n",
    "\n",
    "def contador(frase):\n",
    "    frase = unidecode(frase.lower())\n",
    "    cont = 0\n",
    "    vogais = ['a','e','i','o','u']\n",
    "    for x in frase:\n",
    "        if x in vogais:\n",
    "            cont+=1\n",
    "    print(\"Existem %d vogais na frase.\"%cont)\n",
    "\n",
    "contador(frase)"
   ]
  },
  {
   "cell_type": "markdown",
   "metadata": {},
   "source": [
    "8. Implemente em Python o algoritmo de Busca Binária"
   ]
  },
  {
   "cell_type": "code",
   "execution_count": null,
   "metadata": {},
   "outputs": [],
   "source": [
    "from random import*\n",
    "\n",
    "x = int(input(\"Informe o número da busca binaria:\"))\n",
    "lista = [1,2,3,4,56,67,80,90,101,234,456,678,908]\n",
    "\n",
    "def busc_bin(lista,x):\n",
    "    pri = 0\n",
    "    ult = len(lista)\n",
    "    \n",
    "    while pri <= ult:\n",
    "        meio = (pri+ult)//2\n",
    "        if lista[meio] == x:\n",
    "            return meio\n",
    "        else:\n",
    "            if x < lista[meio]:\n",
    "                ult = meio -1\n",
    "            else:\n",
    "                pri = meio +1\n",
    "    else:\n",
    "        print(\"O número não existe na lista!\")\n",
    "        \n",
    "resul = busc_bin(lista,x)\n",
    "if resul != None:\n",
    "    print(\"O número está na posição %d.\"%resul)"
   ]
  },
  {
   "cell_type": "markdown",
   "metadata": {},
   "source": [
    "9. Escreva uma função que receba algum valor como parâmetro e retorne seu tipo"
   ]
  },
  {
   "cell_type": "code",
   "execution_count": null,
   "metadata": {},
   "outputs": [],
   "source": [
    "par = []\n",
    "\n",
    "def tipo(parametro):\n",
    "    return type(parametro)\n",
    "\n",
    "tipo(par)\n"
   ]
  },
  {
   "cell_type": "markdown",
   "metadata": {},
   "source": [
    "10. Escreva uma função que receba um lista numérica como parâmetro e retorne os segundos maiores e menores números da sequência, por exemplo: entrada [1, 2, 3, 4, 5, 6, 7, 8, 9], saída [2, 8]."
   ]
  },
  {
   "cell_type": "code",
   "execution_count": null,
   "metadata": {},
   "outputs": [],
   "source": [
    "#primeiro metodo excluindo o maior e o menor.\n",
    "lista = [1, 2, 3, 4, 5, 6, 7, 8, 9]\n",
    "\n",
    "def menor_maior(lista):\n",
    "    maior = max(lista)\n",
    "    menor = min(lista)\n",
    "    nova_lista = lista\n",
    "    x = nova_lista.remove(maior)\n",
    "    y = nova_lista.remove(menor)\n",
    "    n1 = max(nova_lista)\n",
    "    n2 = min(nova_lista)\n",
    "    print(\"Saída = [\",n2,\",\",n1,\"]\")\n",
    "\n",
    "menor_maior(lista)"
   ]
  },
  {
   "cell_type": "code",
   "execution_count": null,
   "metadata": {},
   "outputs": [],
   "source": [
    "#segundo metodo atraves de ordenação da lista\n",
    "lista = [1, 2, 3, 4, 5, 6, 7, 8, 9]\n",
    "\n",
    "def menor_maior(lista):\n",
    "    list_cresc = lista\n",
    "    list_decr = lista\n",
    "    n1 = sorted(lista)\n",
    "    n2 = sorted(lista, reverse=True)\n",
    "    print(\"Saída = [\",n1[1],\",\",n2[1],\"]\")\n",
    "\n",
    "menor_maior(lista)"
   ]
  },
  {
   "cell_type": "markdown",
   "metadata": {},
   "source": [
    "11.  Escreva uma função que receba um número inteiro como entrada (px.: 32243) e retorne o número invertido (px.: 34223)."
   ]
  },
  {
   "cell_type": "code",
   "execution_count": null,
   "metadata": {},
   "outputs": [],
   "source": [
    "num = int(input(\"Informe os números:\"))\n",
    "\n",
    "def inversao(num):\n",
    "    num = str(num)\n",
    "    num = list(num)\n",
    "    num.sort(reverse=True)\n",
    "    num = int(''.join(num))\n",
    "    print(num)\n",
    "\n",
    "inversao(num)"
   ]
  }
 ],
 "metadata": {
  "kernelspec": {
   "display_name": "Python 3",
   "language": "python",
   "name": "python3"
  },
  "language_info": {
   "codemirror_mode": {
    "name": "ipython",
    "version": 3
   },
   "file_extension": ".py",
   "mimetype": "text/x-python",
   "name": "python",
   "nbconvert_exporter": "python",
   "pygments_lexer": "ipython3",
   "version": "3.6.5"
  }
 },
 "nbformat": 4,
 "nbformat_minor": 2
}
